{
  "cells": [
    {
      "cell_type": "markdown",
      "metadata": {
        "id": "view-in-github",
        "colab_type": "text"
      },
      "source": [
        "<a href=\"https://colab.research.google.com/github/Josh1313/PRUEBA_VISUALCODE/blob/master/1_STEP_MONDAYTransf_learning_catsanddogs_basic_v0.ipynb\" target=\"_parent\"><img src=\"https://colab.research.google.com/assets/colab-badge.svg\" alt=\"Open In Colab\"/></a>"
      ]
    },
    {
      "cell_type": "markdown",
      "metadata": {
        "id": "xULjVynfIMip"
      },
      "source": [
        
      ]
    },
    {
      "cell_type": "markdown",
      "metadata": {
        "id": "XsWCs2GtMPAw"
      },
      "source": [
        "# Connectar a Drive"
      ]
    },
    {
      "cell_type": "markdown",
      "source": [
        "# En este archivo entrenaremos todo el notebook con el objetivo de los perros y gatos despues usaremos parte del mismo proceso para empezar un nuevo objetivo ya que usaremos el modelo del entrenamiento con nuevo objetivo y congelaremos quitaremos el preprocesamiento ya que solo usaremos el modelo"
      ],
      "metadata": {
        "id": "pMHTvwW-24-d"
      }
    },
    {
      "cell_type": "code",
      "execution_count": 1,
      "metadata": {
        "id": "E6Jk6GTVMDW_",
        "colab": {
          "base_uri": "https://localhost:8080/"
        },
        "outputId": "4276f144-c68a-41a7-eb5d-dfc063bc9700"
      },
      "outputs": [
        {
          "output_type": "stream",
          "name": "stdout",
          "text": [
            "Mounted at /content/drive\n"
          ]
        }
      ],
      "source": [
        "from google.colab import drive\n",
        "drive.mount('/content/drive')"
      ]
    },
    {
      "cell_type": "markdown",
      "metadata": {
        "id": "N5FTXWKIM1Dx"
      },
      "source": [
        "# Librerias"
      ]
    },
    {
      "cell_type": "code",
      "execution_count": null,
      "metadata": {
        "id": "7YO-qvTSM3kX"
      },
      "outputs": [],
      "source": [
        "from tensorflow import keras as ks\n",
        "from tensorflow.keras.preprocessing.image import load_img\n",
        "from tensorflow.keras.callbacks import EarlyStopping\n",
        "from tensorflow.keras.regularizers import l2\n",
        "\n",
        "import numpy as np\n",
        "import pandas as pd\n",
        "import matplotlib.pyplot as plt\n",
        "import random\n",
        "import os\n",
        "\n",
        "from tensorflow.keras.applications import vgg16\n",
        "from tensorflow.keras.models import Model"
      ]
    },
    {
      "cell_type": "markdown",
      "metadata": {
        "id": "IuGCNtaSOEPV"
      },
      "source": [
        "# Variables de entorno\n",
        "\n",
        "<font color=\"#FF0000\">Aquí definireis vuestra ruta del proyecto de perros y Gatos</font>"
      ]
    },
    {
      "cell_type": "code",
      "execution_count": null,
      "metadata": {
        "id": "7K7GC8BQOHV9"
      },
      "outputs": [],
      "source": [
        "ANCHO_IMAGEN = 150\n",
        "ALTURA_IMAGEN=150\n",
        "IMAGE_SIZE = (ANCHO_IMAGEN, ALTURA_IMAGEN)\n",
        "CANALES_IMAGENES = 3\n",
        "\n",
        "ruta_archivos = '/content/drive/MyDrive/DPL456/'"
      ]
    },
    {
      "cell_type": "markdown",
      "metadata": {
        "id": "CavLXOtgOTyb"
      },
      "source": [
        "# Cargaremos datos en NPZ\n"
      ]
    },
    {
      "cell_type": "code",
      "execution_count": null,
      "metadata": {
        "id": "dzVhzbmqOZ7i"
      },
      "outputs": [],
      "source": [
        "dict_npz = np.load(ruta_archivos+'xy_train_img.npz')\n",
        "x_train_img = dict_npz['x']\n",
        "y_train_img = dict_npz['y']\n",
        "\n",
        "dict_npz = np.load(ruta_archivos+'xy_test_img.npz')\n",
        "x_test_img = dict_npz['x']\n",
        "y_test_img = dict_npz['y']\n",
        "\n",
        "dict_npz = np.load(ruta_archivos+'xy_val_img.npz')\n",
        "x_val_img = dict_npz['x']\n",
        "y_val_img = dict_npz['y']"
      ]
    },
    {
      "cell_type": "code",
      "execution_count": null,
      "metadata": {
        "id": "VsjYQW0OPCFL"
      },
      "outputs": [],
      "source": [
        "x_train_scaled = x_train_img / 255.\n",
        "x_test_scaled = x_test_img / 255.\n",
        "x_val_scaled = x_val_img / 255."
      ]
    },
    {
      "cell_type": "code",
      "execution_count": null,
      "metadata": {
        "id": "pF01D2iGVd97",
        "colab": {
          "base_uri": "https://localhost:8080/"
        },
        "outputId": "ea0d3d27-3945-43ae-db02-be3e3eb47c49"
      },
      "outputs": [
        {
          "output_type": "execute_result",
          "data": {
            "text/plain": [
              "array(['cat', 'cat', 'cat', ..., 'dog', 'dog', 'dog'], dtype='<U3')"
            ]
          },
          "metadata": {},
          "execution_count": 34
        }
      ],
      "source": [
        "y_train_img"
      ]
    },
    {
      "cell_type": "markdown",
      "metadata": {
        "id": "WF_SnUJNPtZ5"
      },
      "source": [
        "# Montamos la Red Neuronal\n",
        "\n",
        "## Cargar la parte de extraccion de features de VGG16"
      ]
    },
    {
      "cell_type": "code",
      "execution_count": null,
      "metadata": {
        "id": "sBi8HNOBP1V2"
      },
      "outputs": [],
      "source": [
        "# Creemos una red que será extracción de features basada en VGG16 entrenada con ImageNet"
      ]
    },
    {
      "cell_type": "markdown",
      "source": [
        "El parámetro include_top=False indica que no se debe incluir la capa superior del modelo VGG16. La capa superior se refiere a la capa de clasificación final que generalmente se utiliza para problemas de clasificación de imágenes. Al establecer este parámetro en False, estás omitiendo esa capa y conservando solo las capas convolucionales y de agrupación."
      ],
      "metadata": {
        "id": "i-Rc0ET0IO73"
      }
    },
    {
      "cell_type": "code",
      "source": [
        "model_vgg16 = vgg16.VGG16(include_top=False, weights='imagenet', input_shape=(150,150,3))# SON LOS PIXELES DE LAS IMAGENES\n",
        "#  INLUDE TOP FALSE ES PARA SOLO AGARRAR LA PARTE QUE NECESITAMOS SOLO las convulaciones ni el faltten esta incorporado\n",
        "model_vgg16.summary()"
      ],
      "metadata": {
        "colab": {
          "base_uri": "https://localhost:8080/"
        },
        "id": "XsqsRTqH7xjK",
        "outputId": "493462e2-9300-487d-d5b0-2a3a888b2b50"
      },
      "execution_count": null,
      "outputs": [
        {
          "output_type": "stream",
          "name": "stdout",
          "text": [
            "Model: \"vgg16\"\n",
            "_________________________________________________________________\n",
            " Layer (type)                Output Shape              Param #   \n",
            "=================================================================\n",
            " input_5 (InputLayer)        [(None, 150, 150, 3)]     0         \n",
            "                                                                 \n",
            " block1_conv1 (Conv2D)       (None, 150, 150, 64)      1792      \n",
            "                                                                 \n",
            " block1_conv2 (Conv2D)       (None, 150, 150, 64)      36928     \n",
            "                                                                 \n",
            " block1_pool (MaxPooling2D)  (None, 75, 75, 64)        0         \n",
            "                                                                 \n",
            " block2_conv1 (Conv2D)       (None, 75, 75, 128)       73856     \n",
            "                                                                 \n",
            " block2_conv2 (Conv2D)       (None, 75, 75, 128)       147584    \n",
            "                                                                 \n",
            " block2_pool (MaxPooling2D)  (None, 37, 37, 128)       0         \n",
            "                                                                 \n",
            " block3_conv1 (Conv2D)       (None, 37, 37, 256)       295168    \n",
            "                                                                 \n",
            " block3_conv2 (Conv2D)       (None, 37, 37, 256)       590080    \n",
            "                                                                 \n",
            " block3_conv3 (Conv2D)       (None, 37, 37, 256)       590080    \n",
            "                                                                 \n",
            " block3_pool (MaxPooling2D)  (None, 18, 18, 256)       0         \n",
            "                                                                 \n",
            " block4_conv1 (Conv2D)       (None, 18, 18, 512)       1180160   \n",
            "                                                                 \n",
            " block4_conv2 (Conv2D)       (None, 18, 18, 512)       2359808   \n",
            "                                                                 \n",
            " block4_conv3 (Conv2D)       (None, 18, 18, 512)       2359808   \n",
            "                                                                 \n",
            " block4_pool (MaxPooling2D)  (None, 9, 9, 512)         0         \n",
            "                                                                 \n",
            " block5_conv1 (Conv2D)       (None, 9, 9, 512)         2359808   \n",
            "                                                                 \n",
            " block5_conv2 (Conv2D)       (None, 9, 9, 512)         2359808   \n",
            "                                                                 \n",
            " block5_conv3 (Conv2D)       (None, 9, 9, 512)         2359808   \n",
            "                                                                 \n",
            " block5_pool (MaxPooling2D)  (None, 4, 4, 512)         0         \n",
            "                                                                 \n",
            "=================================================================\n",
            "Total params: 14,714,688\n",
            "Trainable params: 14,714,688\n",
            "Non-trainable params: 0\n",
            "_________________________________________________________________\n"
          ]
        }
      ]
    },
    {
      "cell_type": "markdown",
      "source": [
        "Desde aca le extraemos la ultima capa del modelo y se la asiganmos a una variable despues a esa variable le asignamos la funcion flatten para que aplane la salida que es el output del modelo"
      ],
      "metadata": {
        "id": "wJ5eTq9BIvpT"
      }
    },
    {
      "cell_type": "code",
      "source": [
        "output = model_vgg16.layers[-1].output  # en este extraemos la ultima capa y la asignamos a esa variable\n",
        "output"
      ],
      "metadata": {
        "colab": {
          "base_uri": "https://localhost:8080/"
        },
        "id": "u7iEmoK-8Tkj",
        "outputId": "ba77bf0a-a922-47a9-8da6-b4721b6852dc"
      },
      "execution_count": null,
      "outputs": [
        {
          "output_type": "execute_result",
          "data": {
            "text/plain": [
              "<KerasTensor: shape=(None, 4, 4, 512) dtype=float32 (created by layer 'block5_pool')>"
            ]
          },
          "metadata": {},
          "execution_count": 39
        }
      ]
    },
    {
      "cell_type": "code",
      "source": [
        "output_layer = ks.layers.Flatten()(output)# en esta en la ultima capa le asignamos el flatten osea en la variable\n",
        "output_layer"
      ],
      "metadata": {
        "colab": {
          "base_uri": "https://localhost:8080/"
        },
        "id": "1niWqIUG8rhZ",
        "outputId": "63612afc-e108-42d4-c6b2-c7bd1d944b9c"
      },
      "execution_count": null,
      "outputs": [
        {
          "output_type": "execute_result",
          "data": {
            "text/plain": [
              "<KerasTensor: shape=(None, 8192) dtype=float32 (created by layer 'flatten')>"
            ]
          },
          "metadata": {},
          "execution_count": 40
        }
      ]
    },
    {
      "cell_type": "code",
      "source": [
        "model_prevgg16 = Model(model_vgg16.input, output_layer)\n",
        "model_prevgg16.summary()"
      ],
      "metadata": {
        "colab": {
          "base_uri": "https://localhost:8080/"
        },
        "id": "hPhhvXNs86yZ",
        "outputId": "160beccb-a7ff-437f-c907-c7ba1776e5b8"
      },
      "execution_count": null,
      "outputs": [
        {
          "output_type": "stream",
          "name": "stdout",
          "text": [
            "Model: \"model_1\"\n",
            "_________________________________________________________________\n",
            " Layer (type)                Output Shape              Param #   \n",
            "=================================================================\n",
            " input_5 (InputLayer)        [(None, 150, 150, 3)]     0         \n",
            "                                                                 \n",
            " block1_conv1 (Conv2D)       (None, 150, 150, 64)      1792      \n",
            "                                                                 \n",
            " block1_conv2 (Conv2D)       (None, 150, 150, 64)      36928     \n",
            "                                                                 \n",
            " block1_pool (MaxPooling2D)  (None, 75, 75, 64)        0         \n",
            "                                                                 \n",
            " block2_conv1 (Conv2D)       (None, 75, 75, 128)       73856     \n",
            "                                                                 \n",
            " block2_conv2 (Conv2D)       (None, 75, 75, 128)       147584    \n",
            "                                                                 \n",
            " block2_pool (MaxPooling2D)  (None, 37, 37, 128)       0         \n",
            "                                                                 \n",
            " block3_conv1 (Conv2D)       (None, 37, 37, 256)       295168    \n",
            "                                                                 \n",
            " block3_conv2 (Conv2D)       (None, 37, 37, 256)       590080    \n",
            "                                                                 \n",
            " block3_conv3 (Conv2D)       (None, 37, 37, 256)       590080    \n",
            "                                                                 \n",
            " block3_pool (MaxPooling2D)  (None, 18, 18, 256)       0         \n",
            "                                                                 \n",
            " block4_conv1 (Conv2D)       (None, 18, 18, 512)       1180160   \n",
            "                                                                 \n",
            " block4_conv2 (Conv2D)       (None, 18, 18, 512)       2359808   \n",
            "                                                                 \n",
            " block4_conv3 (Conv2D)       (None, 18, 18, 512)       2359808   \n",
            "                                                                 \n",
            " block4_pool (MaxPooling2D)  (None, 9, 9, 512)         0         \n",
            "                                                                 \n",
            " block5_conv1 (Conv2D)       (None, 9, 9, 512)         2359808   \n",
            "                                                                 \n",
            " block5_conv2 (Conv2D)       (None, 9, 9, 512)         2359808   \n",
            "                                                                 \n",
            " block5_conv3 (Conv2D)       (None, 9, 9, 512)         2359808   \n",
            "                                                                 \n",
            " block5_pool (MaxPooling2D)  (None, 4, 4, 512)         0         \n",
            "                                                                 \n",
            " flatten (Flatten)           (None, 8192)              0         \n",
            "                                                                 \n",
            "=================================================================\n",
            "Total params: 14,714,688\n",
            "Trainable params: 14,714,688\n",
            "Non-trainable params: 0\n",
            "_________________________________________________________________\n"
          ]
        }
      ]
    },
    {
      "cell_type": "code",
      "execution_count": null,
      "metadata": {
        "id": "1Xr76uANSfx7"
      },
      "outputs": [],
      "source": [
        "# Veamos como va lo de \"congelar\" capas de entrenamiento, en este notebook no se realizara la congelacion todavia"
      ]
    },
    {
      "cell_type": "markdown",
      "metadata": {
        "id": "ezsy6QqSTfGk"
      },
      "source": [
        "## Pre-procesaremos las imagenes originales, pasandolas por VGG16, para poder usarlas en la parte de clasificacion/ en el segundo paso se borrara este preprocesamiento"
      ]
    },
    {
      "cell_type": "code",
      "execution_count": null,
      "metadata": {
        "id": "z0xk4P7aTmEy"
      },
      "outputs": [],
      "source": [
        "# Llevamos las imagenes desde su origen al cuello de botella de VGG16, justo después del Flatten() ACA SE BORRAR"
      ]
    },
    {
      "cell_type": "code",
      "execution_count": null,
      "metadata": {
        "id": "0kXmbiS9T6k2"
      },
      "outputs": [],
      "source": [
        "def llevar_a_cuello_botella (datos,model):\n",
        "  return model.predict(datos)"
      ]
    },
    {
      "cell_type": "code",
      "source": [
        "x_train_postvgg16 = llevar_a_cuello_botella(x_train_scaled, model_prevgg16)\n",
        "x_val_postvgg16 = llevar_a_cuello_botella(x_val_scaled, model_prevgg16)\n",
        "x_test_postvgg16 = llevar_a_cuello_botella(x_test_scaled, model_prevgg16)"
      ],
      "metadata": {
        "colab": {
          "base_uri": "https://localhost:8080/"
        },
        "id": "yKaY0BzQ-JzZ",
        "outputId": "beb684aa-ff06-45fc-b442-580db9dc1283"
      },
      "execution_count": null,
      "outputs": [
        {
          "output_type": "stream",
          "name": "stdout",
          "text": [
            "157/157 [==============================] - 20s 66ms/step\n",
            "32/32 [==============================] - 2s 63ms/step\n",
            "32/32 [==============================] - 2s 63ms/step\n"
          ]
        }
      ]
    },
    {
      "cell_type": "markdown",
      "metadata": {
        "id": "xO4I17PxUVOS"
      },
      "source": [
        "# Montemos la red de clasificación"
      ]
    },
    {
      "cell_type": "code",
      "execution_count": null,
      "metadata": {
        "id": "Ro2wPiG1UZX0"
      },
      "outputs": [],
      "source": [
        "# Definamos el output de salida de la transformacion VGG16\n",
        "output_from_vgg16 = 8192 # en el segundo paso se le borrara esta linea y se actualizara el modelo"
      ]
    },
    {
      "cell_type": "code",
      "execution_count": null,
      "metadata": {
        "id": "2qDwi_ELUwHg",
        "colab": {
          "base_uri": "https://localhost:8080/"
        },
        "outputId": "cd58b28e-a062-4b46-f971-4711b07d1e6b"
      },
      "outputs": [
        {
          "output_type": "stream",
          "name": "stdout",
          "text": [
            "Model: \"sequential\"\n",
            "_________________________________________________________________\n",
            " Layer (type)                Output Shape              Param #   \n",
            "=================================================================\n",
            " dense (Dense)               (None, 512)               4194816   \n",
            "                                                                 \n",
            " dropout (Dropout)           (None, 512)               0         \n",
            "                                                                 \n",
            " dense_1 (Dense)             (None, 512)               262656    \n",
            "                                                                 \n",
            " dropout_1 (Dropout)         (None, 512)               0         \n",
            "                                                                 \n",
            " dense_2 (Dense)             (None, 1)                 513       \n",
            "                                                                 \n",
            "=================================================================\n",
            "Total params: 4,457,985\n",
            "Trainable params: 4,457,985\n",
            "Non-trainable params: 0\n",
            "_________________________________________________________________\n"
          ]
        }
      ],
      "source": [
        "model_post_vgg = ks.Sequential()\n",
        "\n",
        "model_post_vgg.add(ks.layers.InputLayer(input_shape=(output_from_vgg16)))\n",
        "model_post_vgg.add(ks.layers.Dense(512, activation='relu', input_shape=(output_from_vgg16,)))\n",
        "model_post_vgg.add(ks.layers.Dropout(0.3))\n",
        "model_post_vgg.add(ks.layers.Dense(512, activation='relu'))\n",
        "model_post_vgg.add(ks.layers.Dropout(0.3))\n",
        "model_post_vgg.add(ks.layers.Dense(1, activation='sigmoid'))\n",
        "\n",
        "model_post_vgg.summary()"
      ]
    },
    {
      "cell_type": "markdown",
      "metadata": {
        "id": "BgyjckmLWGV5"
      },
      "source": [
        "# Creamos un optimizador"
      ]
    },
    {
      "cell_type": "code",
      "source": [
        "# lee creamos un nuevp adam para que el modelo sea mas pequeno con un modelo de satos mas pequeno"
      ],
      "metadata": {
        "id": "jabo1PDwGABF"
      },
      "execution_count": null,
      "outputs": []
    },
    {
      "cell_type": "code",
      "execution_count": null,
      "metadata": {
        "id": "2D-G7bQ2WKZL"
      },
      "outputs": [],
      "source": [
        "from tensorflow.keras.optimizers import Adam"
      ]
    },
    {
      "cell_type": "code",
      "execution_count": null,
      "metadata": {
        "id": "_lv5_11kWaP0"
      },
      "outputs": [],
      "source": [
        "new_adam = Adam(learning_rate=0.0005)\n"
      ]
    },
    {
      "cell_type": "code",
      "execution_count": null,
      "metadata": {
        "id": "JGPweTyGWwiA"
      },
      "outputs": [],
      "source": [
        "model_post_vgg.compile(loss='binary_crossentropy', optimizer='Adam', metrics=['accuracy'])"
      ]
    },
    {
      "cell_type": "markdown",
      "metadata": {
        "id": "3bFrHu2sXCQB"
      },
      "source": [
        "# Early stopping!!"
      ]
    },
    {
      "cell_type": "code",
      "execution_count": null,
      "metadata": {
        "id": "20hx0uQFXA08"
      },
      "outputs": [],
      "source": [
        "callback = EarlyStopping(monitor='val_loss', patience=5)"
      ]
    },
    {
      "cell_type": "markdown",
      "metadata": {
        "id": "XZKWdR2Na3Mm"
      },
      "source": [
        "# Encoding de etiquetas"
      ]
    },
    {
      "cell_type": "code",
      "execution_count": null,
      "metadata": {
        "id": "0xNzsi3Sa89O"
      },
      "outputs": [],
      "source": [
        "from sklearn.preprocessing import LabelEncoder\n",
        "\n",
        "le = LabelEncoder()\n",
        "le.fit(y_train_img)\n",
        "y_train_encoded = le.transform(y_train_img)\n",
        "y_val_encoded = le.transform(y_val_img)\n",
        "y_test_encoded = le.transform(y_test_img)"
      ]
    },
    {
      "cell_type": "code",
      "execution_count": null,
      "metadata": {
        "id": "Rx2qT33pbWfy",
        "colab": {
          "base_uri": "https://localhost:8080/"
        },
        "outputId": "5e4e5260-930a-43ea-db27-37250a652165"
      },
      "outputs": [
        {
          "output_type": "stream",
          "name": "stdout",
          "text": [
            "['cat' 'cat' 'cat' ... 'dog' 'dog' 'dog']\n",
            "[0 0 0 ... 1 1 1]\n"
          ]
        },
        {
          "output_type": "execute_result",
          "data": {
            "text/plain": [
              "array([0, 0, 0, ..., 1, 1, 1])"
            ]
          },
          "metadata": {},
          "execution_count": 56
        }
      ],
      "source": [
        "print(np.array(y_train_img))\n",
        "print(np.array(y_train_encoded))\n",
        "\n",
        "y_train_encoded"
      ]
    },
    {
      "cell_type": "markdown",
      "metadata": {
        "id": "I5ewPTEFXOPb"
      },
      "source": [
        "# Entrenar"
      ]
    },
    {
      "cell_type": "code",
      "execution_count": null,
      "metadata": {
        "id": "9nLdIY2UXY4s",
        "colab": {
          "base_uri": "https://localhost:8080/"
        },
        "outputId": "99223dca-feb3-4f13-e738-54aa77a37ae3"
      },
      "outputs": [
        {
          "output_type": "stream",
          "name": "stdout",
          "text": [
            "Epoch 1/100\n",
            "10/10 [==============================] - 3s 44ms/step - loss: 1.2787 - accuracy: 0.5596 - val_loss: 0.6576 - val_accuracy: 0.5710\n",
            "Epoch 2/100\n",
            "10/10 [==============================] - 0s 24ms/step - loss: 0.4755 - accuracy: 0.7736 - val_loss: 0.3083 - val_accuracy: 0.8740\n",
            "Epoch 3/100\n",
            "10/10 [==============================] - 0s 20ms/step - loss: 0.3221 - accuracy: 0.8592 - val_loss: 0.2548 - val_accuracy: 0.8930\n",
            "Epoch 4/100\n",
            "10/10 [==============================] - 0s 25ms/step - loss: 0.2584 - accuracy: 0.8918 - val_loss: 0.2402 - val_accuracy: 0.8970\n",
            "Epoch 5/100\n",
            "10/10 [==============================] - 0s 24ms/step - loss: 0.2192 - accuracy: 0.9102 - val_loss: 0.2262 - val_accuracy: 0.9070\n",
            "Epoch 6/100\n",
            "10/10 [==============================] - 0s 21ms/step - loss: 0.1825 - accuracy: 0.9242 - val_loss: 0.2175 - val_accuracy: 0.9070\n",
            "Epoch 7/100\n",
            "10/10 [==============================] - 0s 21ms/step - loss: 0.1649 - accuracy: 0.9370 - val_loss: 0.2204 - val_accuracy: 0.9070\n",
            "Epoch 8/100\n",
            "10/10 [==============================] - 0s 24ms/step - loss: 0.1377 - accuracy: 0.9454 - val_loss: 0.2110 - val_accuracy: 0.9060\n",
            "Epoch 9/100\n",
            "10/10 [==============================] - 0s 21ms/step - loss: 0.1141 - accuracy: 0.9574 - val_loss: 0.2379 - val_accuracy: 0.9090\n",
            "Epoch 10/100\n",
            "10/10 [==============================] - 0s 20ms/step - loss: 0.0986 - accuracy: 0.9650 - val_loss: 0.2322 - val_accuracy: 0.9060\n",
            "Epoch 11/100\n",
            "10/10 [==============================] - 0s 20ms/step - loss: 0.0799 - accuracy: 0.9706 - val_loss: 0.2485 - val_accuracy: 0.9110\n",
            "Epoch 12/100\n",
            "10/10 [==============================] - 0s 21ms/step - loss: 0.0637 - accuracy: 0.9766 - val_loss: 0.2757 - val_accuracy: 0.9090\n",
            "Epoch 13/100\n",
            "10/10 [==============================] - 0s 22ms/step - loss: 0.0474 - accuracy: 0.9866 - val_loss: 0.3061 - val_accuracy: 0.9030\n"
          ]
        }
      ],
      "source": [
        "history = model_post_vgg.fit(x=x_train_postvgg16, y=y_train_encoded, batch_size=512,\n",
        "                             epochs=100, callbacks=[callback],\n",
        "                             validation_data=(x_val_postvgg16, y_val_encoded))"
      ]
    },
    {
      "cell_type": "markdown",
      "metadata": {
        "id": "_9wlK6qZkcyf"
      },
      "source": [
        "# Guardamos el modelo\n",
        "\n",
        "Aquí tenemos que guardar el modelo simple, pero tambien hemos de guardar, o bien el modelo de preproceso o bien los datos de test procesados en NPZ..."
      ]
    },
    {
      "cell_type": "code",
      "execution_count": null,
      "metadata": {
        "id": "obUoFlpXkcyg"
      },
      "outputs": [],
      "source": [
        "# Modelo post VGG16\n",
        "model_post_vgg.save(ruta_archivos+'model_with_basic_transfer_learning_post_vgg16.h5')\n",
        "\n",
        "# Datos procesados de test/ en el segundo paso se borrara esta linea de codigo\n",
        "np.savez_compressed(ruta_archivos+'post_vgg16_test_data.npz', x=x_test_postvgg16, y=y_test_encoded)\n"
      ]
    },
    {
      "cell_type": "markdown",
      "metadata": {
        "id": "-jPRKwC_kcyg"
      },
      "source": [
        "# Miremos que tal rinde el modelo en errores y accuracy"
      ]
    },
    {
      "cell_type": "code",
      "execution_count": null,
      "metadata": {
        "id": "zKqHz-_mkcyg",
        "colab": {
          "base_uri": "https://localhost:8080/",
          "height": 887
        },
        "outputId": "d91faa76-52db-46ca-ffaa-38b5ad4b7ac6"
      },
      "outputs": [
        {
          "output_type": "display_data",
          "data": {
            "text/plain": [
              "<Figure size 640x480 with 1 Axes>"
            ],
            "image/png": "[encoded data removed]"
          },
          "metadata": {}
        },
        {
          "output_type": "display_data",
          "data": {
            "text/plain": [
              "<Figure size 640x480 with 1 Axes>"
            ],
            "image/png": "[encoded data removed]"
          },
          "metadata": {}
        }
      ],
      "source": [
        "plt.title('Cross Entropy Loss')\n",
        "plt.plot(history.history['loss'], color='blue', label='train')\n",
        "plt.plot(history.history['val_loss'], color='orange', label='test')\n",
        "plt.show()\n",
        "\n",
        "plt.title('Classification Accuracy')\n",
        "plt.plot(history.history['accuracy'], color='blue', label='train')\n",
        "plt.plot(history.history['val_accuracy'], color='orange', label='test')\n",
        "plt.show()"
      ]
    },
    {
      "cell_type": "code",
      "execution_count": null,
      "metadata": {
        "id": "3LUGA9cgkcyh",
        "colab": {
          "base_uri": "https://localhost:8080/"
        },
        "outputId": "b95d2307-7c8b-4e7f-e5ed-e3450eacbbbe"
      },
      "outputs": [
        {
          "output_type": "stream",
          "name": "stdout",
          "text": [
            "Modelo con Basic Transfer Learning > 90.500\n"
          ]
        }
      ],
      "source": [
        "_, acc = model_post_vgg.evaluate(x_test_postvgg16, y_test_encoded, verbose=0)\n",
        "print('Modelo con Basic Transfer Learning > %.3f' % (acc * 100.0))\n"
      ]
    }
  ],
  "metadata": {
    "accelerator": "GPU",
    "colab": {
      "provenance": [],
      "include_colab_link": true
    },
    "kernelspec": {
      "display_name": "Python 3",
      "language": "python",
      "name": "python3"
    },
    "language_info": {
      "codemirror_mode": {
        "name": "ipython",
        "version": 3
      },
      "file_extension": ".py",
      "mimetype": "text/x-python",
      "name": "python",
      "nbconvert_exporter": "python",
      "pygments_lexer": "ipython3",
      "version": "3.8.5"
    }
  },
  "nbformat": 4,
  "nbformat_minor": 0
}
