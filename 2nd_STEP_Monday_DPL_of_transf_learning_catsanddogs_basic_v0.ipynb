{
  "cells": [
    {
      "cell_type": "markdown",
      "metadata": {
        "id": "view-in-github",
        "colab_type": "text"
      },
      "source": [
        "<a href=\"https://colab.research.google.com/github/Josh1313/PRUEBA_VISUALCODE/blob/master/2nd_STEP_Monday_DPL_of_transf_learning_catsanddogs_basic_v0.ipynb\" target=\"_parent\"><img src=\"https://colab.research.google.com/assets/colab-badge.svg\" alt=\"Open In Colab\"/></a>"
      ]
    },
    {
      "cell_type": "markdown",
      "metadata": {
        "id": "xULjVynfIMip"
      },
      "source": [
        
      ]
    },
    {
      "cell_type": "markdown",
      "metadata": {
        "id": "XsWCs2GtMPAw"
      },
      "source": [
        "# Connectar a Drive"
      ]
    },
    {
      "cell_type": "markdown",
      "source": [
        "# En este notebook haremos unos ajustes al notebook que lo entrenamos con perros y gatos borraremos el preprocesamiento y nos quedaremos con el modelo y congelaremos el proceso y cargaremos nuevos datos para que predica mejor,FINE TUNNING"
      ],
      "metadata": {
        "id": "jgSAyaeX34Gd"
      }
    },
    {
      "cell_type": "code",
      "execution_count": 2,
      "metadata": {
        "id": "E6Jk6GTVMDW_",
        "colab": {
          "base_uri": "https://localhost:8080/"
        },
        "outputId": "e77907b1-0fc0-42e0-cc44-4935c44776e1"
      },
      "outputs": [
        {
          "output_type": "stream",
          "name": "stdout",
          "text": [
            "Drive already mounted at /content/drive; to attempt to forcibly remount, call drive.mount(\"/content/drive\", force_remount=True).\n"
          ]
        }
      ],
      "source": [
        "from google.colab import drive\n",
        "drive.mount('/content/drive')"
      ]
    },
    {
      "cell_type": "markdown",
      "metadata": {
        "id": "N5FTXWKIM1Dx"
      },
      "source": [
        "# Librerias"
      ]
    },
    {
      "cell_type": "code",
      "execution_count": 3,
      "metadata": {
        "id": "7YO-qvTSM3kX"
      },
      "outputs": [],
      "source": [
        "from tensorflow import keras as ks\n",
        "from tensorflow.keras.preprocessing.image import load_img\n",
        "from tensorflow.keras.callbacks import EarlyStopping\n",
        "from tensorflow.keras.regularizers import l2\n",
        "\n",
        "import numpy as np\n",
        "import pandas as pd\n",
        "import matplotlib.pyplot as plt\n",
        "import random\n",
        "import os\n",
        "\n",
        "from tensorflow.keras.applications import vgg16\n",
        "from tensorflow.keras.models import Model"
      ]
    },
    {
      "cell_type": "markdown",
      "metadata": {
        "id": "IuGCNtaSOEPV"
      },
      "source": [
        "# Variables de entorno\n",
        "\n",
        "<font color=\"#FF0000\">Aquí definireis vuestra ruta del proyecto de perros y Gatos</font>"
      ]
    },
    {
      "cell_type": "code",
      "execution_count": 4,
      "metadata": {
        "id": "7K7GC8BQOHV9"
      },
      "outputs": [],
      "source": [
        "ANCHO_IMAGEN = 150\n",
        "ALTURA_IMAGEN=150\n",
        "IMAGE_SIZE = (ANCHO_IMAGEN, ALTURA_IMAGEN)\n",
        "CANALES_IMAGENES = 3\n",
        "\n",
        "ruta_archivos = '/content/drive/MyDrive/DPL456/'"
      ]
    },
    {
      "cell_type": "markdown",
      "metadata": {
        "id": "CavLXOtgOTyb"
      },
      "source": [
        "# Cargaremos datos en NPZ\n"
      ]
    },
    {
      "cell_type": "code",
      "execution_count": 5,
      "metadata": {
        "id": "dzVhzbmqOZ7i"
      },
      "outputs": [],
      "source": [
        "dict_npz = np.load(ruta_archivos+'xy_train_img.npz')\n",
        "x_train_img = dict_npz['x']\n",
        "y_train_img = dict_npz['y']\n",
        "\n",
        "dict_npz = np.load(ruta_archivos+'xy_test_img.npz')\n",
        "x_test_img = dict_npz['x']\n",
        "y_test_img = dict_npz['y']\n",
        "\n",
        "dict_npz = np.load(ruta_archivos+'xy_val_img.npz')\n",
        "x_val_img = dict_npz['x']\n",
        "y_val_img = dict_npz['y']"
      ]
    },
    {
      "cell_type": "code",
      "execution_count": 6,
      "metadata": {
        "id": "VsjYQW0OPCFL"
      },
      "outputs": [],
      "source": [
        "x_train_scaled = x_train_img / 255.\n",
        "x_test_scaled = x_test_img / 255.\n",
        "x_val_scaled = x_val_img / 255."
      ]
    },
    {
      "cell_type": "code",
      "execution_count": 7,
      "metadata": {
        "id": "pF01D2iGVd97",
        "colab": {
          "base_uri": "https://localhost:8080/"
        },
        "outputId": "b42ed1f0-85d7-43ae-952a-27c7261b6868"
      },
      "outputs": [
        {
          "output_type": "execute_result",
          "data": {
            "text/plain": [
              "array(['cat', 'cat', 'cat', ..., 'dog', 'dog', 'dog'], dtype='<U3')"
            ]
          },
          "metadata": {},
          "execution_count": 7
        }
      ],
      "source": [
        "y_train_img"
      ]
    },
    {
      "cell_type": "markdown",
      "metadata": {
        "id": "WF_SnUJNPtZ5"
      },
      "source": [
        "# Montamos la Red Neuronal\n",
        "\n",
        "## Cargar la parte de extraccion de features de VGG16"
      ]
    },
    {
      "cell_type": "code",
      "execution_count": 8,
      "metadata": {
        "id": "sBi8HNOBP1V2"
      },
      "outputs": [],
      "source": [
        "# Creemos una red que será extracción de features basada en VGG16 entrenada con ImageNet"
      ]
    },
    {
      "cell_type": "code",
      "source": [
        "model_vgg16 = vgg16.VGG16(include_top=False, weights='imagenet', input_shape=(150,150,3))# Son los pixeles de las imagenes (features)\n",
        "# include_top=false, es para agarrar la parte que necesitamos solo el preprocesamiento\n",
        "model_vgg16.summary()"
      ],
      "metadata": {
        "colab": {
          "base_uri": "https://localhost:8080/"
        },
        "id": "XsqsRTqH7xjK",
        "outputId": "1aba8be0-1a05-4003-9646-4a5f37a3787e"
      },
      "execution_count": 9,
      "outputs": [
        {
          "output_type": "stream",
          "name": "stdout",
          "text": [
            "Downloading data from https://storage.googleapis.com/tensorflow/keras-applications/vgg16/vgg16_weights_tf_dim_ordering_tf_kernels_notop.h5\n",
            "58889256/58889256 [==============================] - 4s 0us/step\n",
            "Model: \"vgg16\"\n",
            "_________________________________________________________________\n",
            " Layer (type)                Output Shape              Param #   \n",
            "=================================================================\n",
            " input_1 (InputLayer)        [(None, 150, 150, 3)]     0         \n",
            "                                                                 \n",
            " block1_conv1 (Conv2D)       (None, 150, 150, 64)      1792      \n",
            "                                                                 \n",
            " block1_conv2 (Conv2D)       (None, 150, 150, 64)      36928     \n",
            "                                                                 \n",
            " block1_pool (MaxPooling2D)  (None, 75, 75, 64)        0         \n",
            "                                                                 \n",
            " block2_conv1 (Conv2D)       (None, 75, 75, 128)       73856     \n",
            "                                                                 \n",
            " block2_conv2 (Conv2D)       (None, 75, 75, 128)       147584    \n",
            "                                                                 \n",
            " block2_pool (MaxPooling2D)  (None, 37, 37, 128)       0         \n",
            "                                                                 \n",
            " block3_conv1 (Conv2D)       (None, 37, 37, 256)       295168    \n",
            "                                                                 \n",
            " block3_conv2 (Conv2D)       (None, 37, 37, 256)       590080    \n",
            "                                                                 \n",
            " block3_conv3 (Conv2D)       (None, 37, 37, 256)       590080    \n",
            "                                                                 \n",
            " block3_pool (MaxPooling2D)  (None, 18, 18, 256)       0         \n",
            "                                                                 \n",
            " block4_conv1 (Conv2D)       (None, 18, 18, 512)       1180160   \n",
            "                                                                 \n",
            " block4_conv2 (Conv2D)       (None, 18, 18, 512)       2359808   \n",
            "                                                                 \n",
            " block4_conv3 (Conv2D)       (None, 18, 18, 512)       2359808   \n",
            "                                                                 \n",
            " block4_pool (MaxPooling2D)  (None, 9, 9, 512)         0         \n",
            "                                                                 \n",
            " block5_conv1 (Conv2D)       (None, 9, 9, 512)         2359808   \n",
            "                                                                 \n",
            " block5_conv2 (Conv2D)       (None, 9, 9, 512)         2359808   \n",
            "                                                                 \n",
            " block5_conv3 (Conv2D)       (None, 9, 9, 512)         2359808   \n",
            "                                                                 \n",
            " block5_pool (MaxPooling2D)  (None, 4, 4, 512)         0         \n",
            "                                                                 \n",
            "=================================================================\n",
            "Total params: 14,714,688\n",
            "Trainable params: 14,714,688\n",
            "Non-trainable params: 0\n",
            "_________________________________________________________________\n"
          ]
        }
      ]
    },
    {
      "cell_type": "markdown",
      "source": [
        "Desde aca le extraemos la ultima capa del modelo y se la asiganmos a una variable despues a esa variable le asignamos la funcion flatten para que aplane la salida que es el output del modelo"
      ],
      "metadata": {
        "id": "m-FAab6XIrB_"
      }
    },
    {
      "cell_type": "code",
      "source": [
        "output = model_vgg16.layers[-1].output  # en este paso  nos quedamos  y lo juntamos\n",
        "output"
      ],
      "metadata": {
        "colab": {
          "base_uri": "https://localhost:8080/"
        },
        "id": "u7iEmoK-8Tkj",
        "outputId": "b287ce2c-1173-4bab-b149-cd587a57c6a4"
      },
      "execution_count": 10,
      "outputs": [
        {
          "output_type": "execute_result",
          "data": {
            "text/plain": [
              "<KerasTensor: shape=(None, 4, 4, 512) dtype=float32 (created by layer 'block5_pool')>"
            ]
          },
          "metadata": {},
          "execution_count": 10
        }
      ]
    },
    {
      "cell_type": "code",
      "source": [
        "output_layer = ks.layers.Flatten()(output)\n",
        "output_layer"
      ],
      "metadata": {
        "colab": {
          "base_uri": "https://localhost:8080/"
        },
        "id": "1niWqIUG8rhZ",
        "outputId": "0f0c52b8-47bc-466b-dd50-1df88f827864"
      },
      "execution_count": 11,
      "outputs": [
        {
          "output_type": "execute_result",
          "data": {
            "text/plain": [
              "<KerasTensor: shape=(None, 8192) dtype=float32 (created by layer 'flatten')>"
            ]
          },
          "metadata": {},
          "execution_count": 11
        }
      ]
    },
    {
      "cell_type": "code",
      "source": [
        "model_prevgg16 = Model(model_vgg16.input, output_layer)\n",
        "model_prevgg16.summary()"
      ],
      "metadata": {
        "colab": {
          "base_uri": "https://localhost:8080/"
        },
        "id": "hPhhvXNs86yZ",
        "outputId": "77727a5d-bc30-4775-d154-58f299cbf61a"
      },
      "execution_count": 12,
      "outputs": [
        {
          "output_type": "stream",
          "name": "stdout",
          "text": [
            "Model: \"model\"\n",
            "_________________________________________________________________\n",
            " Layer (type)                Output Shape              Param #   \n",
            "=================================================================\n",
            " input_1 (InputLayer)        [(None, 150, 150, 3)]     0         \n",
            "                                                                 \n",
            " block1_conv1 (Conv2D)       (None, 150, 150, 64)      1792      \n",
            "                                                                 \n",
            " block1_conv2 (Conv2D)       (None, 150, 150, 64)      36928     \n",
            "                                                                 \n",
            " block1_pool (MaxPooling2D)  (None, 75, 75, 64)        0         \n",
            "                                                                 \n",
            " block2_conv1 (Conv2D)       (None, 75, 75, 128)       73856     \n",
            "                                                                 \n",
            " block2_conv2 (Conv2D)       (None, 75, 75, 128)       147584    \n",
            "                                                                 \n",
            " block2_pool (MaxPooling2D)  (None, 37, 37, 128)       0         \n",
            "                                                                 \n",
            " block3_conv1 (Conv2D)       (None, 37, 37, 256)       295168    \n",
            "                                                                 \n",
            " block3_conv2 (Conv2D)       (None, 37, 37, 256)       590080    \n",
            "                                                                 \n",
            " block3_conv3 (Conv2D)       (None, 37, 37, 256)       590080    \n",
            "                                                                 \n",
            " block3_pool (MaxPooling2D)  (None, 18, 18, 256)       0         \n",
            "                                                                 \n",
            " block4_conv1 (Conv2D)       (None, 18, 18, 512)       1180160   \n",
            "                                                                 \n",
            " block4_conv2 (Conv2D)       (None, 18, 18, 512)       2359808   \n",
            "                                                                 \n",
            " block4_conv3 (Conv2D)       (None, 18, 18, 512)       2359808   \n",
            "                                                                 \n",
            " block4_pool (MaxPooling2D)  (None, 9, 9, 512)         0         \n",
            "                                                                 \n",
            " block5_conv1 (Conv2D)       (None, 9, 9, 512)         2359808   \n",
            "                                                                 \n",
            " block5_conv2 (Conv2D)       (None, 9, 9, 512)         2359808   \n",
            "                                                                 \n",
            " block5_conv3 (Conv2D)       (None, 9, 9, 512)         2359808   \n",
            "                                                                 \n",
            " block5_pool (MaxPooling2D)  (None, 4, 4, 512)         0         \n",
            "                                                                 \n",
            " flatten (Flatten)           (None, 8192)              0         \n",
            "                                                                 \n",
            "=================================================================\n",
            "Total params: 14,714,688\n",
            "Trainable params: 14,714,688\n",
            "Non-trainable params: 0\n",
            "_________________________________________________________________\n"
          ]
        }
      ]
    },
    {
      "cell_type": "code",
      "execution_count": 13,
      "metadata": {
        "id": "1Xr76uANSfx7"
      },
      "outputs": [],
      "source": [
        "# Veamos como va lo de \"congelar\" capas de entrenamiento"
      ]
    },
    {
      "cell_type": "code",
      "source": [
        "pd.set_option(\"display.max_colwidth\", True)\n",
        "layers = [(layer, layer.name, layer.trainable) for layer in model_prevgg16.layers]\n",
        "pd.DataFrame(layers, columns=(\"Layer\",\"Name\",\"Is Trainable?\"))"
      ],
      "metadata": {
        "colab": {
          "base_uri": "https://localhost:8080/",
          "height": 676
        },
        "id": "JangPnJ3DML9",
        "outputId": "0c23035f-b1ab-4bf3-ba5b-455c24e1444e"
      },
      "execution_count": 14,
      "outputs": [
        {
          "output_type": "execute_result",
          "data": {
            "text/plain": [
              "                                                                         Layer  \\\n",
              "0   <keras.engine.input_layer.InputLayer object at 0x7f9bfb605480>               \n",
              "1   <keras.layers.convolutional.conv2d.Conv2D object at 0x7f9bfb604dc0>          \n",
              "2   <keras.layers.convolutional.conv2d.Conv2D object at 0x7f9bfb6045b0>          \n",
              "3   <keras.layers.pooling.max_pooling2d.MaxPooling2D object at 0x7f9bfb6067d0>   \n",
              "4   <keras.layers.convolutional.conv2d.Conv2D object at 0x7f9bfb607100>          \n",
              "5   <keras.layers.convolutional.conv2d.Conv2D object at 0x7f9bfb607f40>          \n",
              "6   <keras.layers.pooling.max_pooling2d.MaxPooling2D object at 0x7f9bfb606980>   \n",
              "7   <keras.layers.convolutional.conv2d.Conv2D object at 0x7f9bfb607640>          \n",
              "8   <keras.layers.convolutional.conv2d.Conv2D object at 0x7f9baacd5870>          \n",
              "9   <keras.layers.convolutional.conv2d.Conv2D object at 0x7f9bfb606920>          \n",
              "10  <keras.layers.pooling.max_pooling2d.MaxPooling2D object at 0x7f9baacd5240>   \n",
              "11  <keras.layers.convolutional.conv2d.Conv2D object at 0x7f9baacd7370>          \n",
              "12  <keras.layers.convolutional.conv2d.Conv2D object at 0x7f9baacd6530>          \n",
              "13  <keras.layers.convolutional.conv2d.Conv2D object at 0x7f9baacd7910>          \n",
              "14  <keras.layers.pooling.max_pooling2d.MaxPooling2D object at 0x7f9b180c1870>   \n",
              "15  <keras.layers.convolutional.conv2d.Conv2D object at 0x7f9b180c23b0>          \n",
              "16  <keras.layers.convolutional.conv2d.Conv2D object at 0x7f9b180c1000>          \n",
              "17  <keras.layers.convolutional.conv2d.Conv2D object at 0x7f9b180c1750>          \n",
              "18  <keras.layers.pooling.max_pooling2d.MaxPooling2D object at 0x7f9b180c38e0>   \n",
              "19  <keras.layers.reshaping.flatten.Flatten object at 0x7f9b180d24d0>            \n",
              "\n",
              "            Name  Is Trainable?  \n",
              "0   input_1       True           \n",
              "1   block1_conv1  True           \n",
              "2   block1_conv2  True           \n",
              "3   block1_pool   True           \n",
              "4   block2_conv1  True           \n",
              "5   block2_conv2  True           \n",
              "6   block2_pool   True           \n",
              "7   block3_conv1  True           \n",
              "8   block3_conv2  True           \n",
              "9   block3_conv3  True           \n",
              "10  block3_pool   True           \n",
              "11  block4_conv1  True           \n",
              "12  block4_conv2  True           \n",
              "13  block4_conv3  True           \n",
              "14  block4_pool   True           \n",
              "15  block5_conv1  True           \n",
              "16  block5_conv2  True           \n",
              "17  block5_conv3  True           \n",
              "18  block5_pool   True           \n",
              "19  flatten       True           "
            ],
            "text/html": [
              "\n",
              "  <div id=\"df-bacc6200-b3a2-4fe0-966f-8a57ac77806b\">\n",
              "    <div class=\"colab-df-container\">\n",
              "      <div>\n",
              "<style scoped>\n",
              "    .dataframe tbody tr th:only-of-type {\n",
              "        vertical-align: middle;\n",
              "    }\n",
              "\n",
              "    .dataframe tbody tr th {\n",
              "        vertical-align: top;\n",
              "    }\n",
              "\n",
              "    .dataframe thead th {\n",
              "        text-align: right;\n",
              "    }\n",
              "</style>\n",
              "<table border=\"1\" class=\"dataframe\">\n",
              "  <thead>\n",
              "    <tr style=\"text-align: right;\">\n",
              "      <th></th>\n",
              "      <th>Layer</th>\n",
              "      <th>Name</th>\n",
              "      <th>Is Trainable?</th>\n",
              "    </tr>\n",
              "  </thead>\n",
              "  <tbody>\n",
              "    <tr>\n",
              "      <th>0</th>\n",
              "      <td>&lt;keras.engine.input_layer.InputLayer object at 0x7f9bfb605480&gt;</td>\n",
              "      <td>input_1</td>\n",
              "      <td>True</td>\n",
              "    </tr>\n",
              "    <tr>\n",
              "      <th>1</th>\n",
              "      <td>&lt;keras.layers.convolutional.conv2d.Conv2D object at 0x7f9bfb604dc0&gt;</td>\n",
              "      <td>block1_conv1</td>\n",
              "      <td>True</td>\n",
              "    </tr>\n",
              "    <tr>\n",
              "      <th>2</th>\n",
              "      <td>&lt;keras.layers.convolutional.conv2d.Conv2D object at 0x7f9bfb6045b0&gt;</td>\n",
              "      <td>block1_conv2</td>\n",
              "      <td>True</td>\n",
              "    </tr>\n",
              "    <tr>\n",
              "      <th>3</th>\n",
              "      <td>&lt;keras.layers.pooling.max_pooling2d.MaxPooling2D object at 0x7f9bfb6067d0&gt;</td>\n",
              "      <td>block1_pool</td>\n",
              "      <td>True</td>\n",
              "    </tr>\n",
              "    <tr>\n",
              "      <th>4</th>\n",
              "      <td>&lt;keras.layers.convolutional.conv2d.Conv2D object at 0x7f9bfb607100&gt;</td>\n",
              "      <td>block2_conv1</td>\n",
              "      <td>True</td>\n",
              "    </tr>\n",
              "    <tr>\n",
              "      <th>5</th>\n",
              "      <td>&lt;keras.layers.convolutional.conv2d.Conv2D object at 0x7f9bfb607f40&gt;</td>\n",
              "      <td>block2_conv2</td>\n",
              "      <td>True</td>\n",
              "    </tr>\n",
              "    <tr>\n",
              "      <th>6</th>\n",
              "      <td>&lt;keras.layers.pooling.max_pooling2d.MaxPooling2D object at 0x7f9bfb606980&gt;</td>\n",
              "      <td>block2_pool</td>\n",
              "      <td>True</td>\n",
              "    </tr>\n",
              "    <tr>\n",
              "      <th>7</th>\n",
              "      <td>&lt;keras.layers.convolutional.conv2d.Conv2D object at 0x7f9bfb607640&gt;</td>\n",
              "      <td>block3_conv1</td>\n",
              "      <td>True</td>\n",
              "    </tr>\n",
              "    <tr>\n",
              "      <th>8</th>\n",
              "      <td>&lt;keras.layers.convolutional.conv2d.Conv2D object at 0x7f9baacd5870&gt;</td>\n",
              "      <td>block3_conv2</td>\n",
              "      <td>True</td>\n",
              "    </tr>\n",
              "    <tr>\n",
              "      <th>9</th>\n",
              "      <td>&lt;keras.layers.convolutional.conv2d.Conv2D object at 0x7f9bfb606920&gt;</td>\n",
              "      <td>block3_conv3</td>\n",
              "      <td>True</td>\n",
              "    </tr>\n",
              "    <tr>\n",
              "      <th>10</th>\n",
              "      <td>&lt;keras.layers.pooling.max_pooling2d.MaxPooling2D object at 0x7f9baacd5240&gt;</td>\n",
              "      <td>block3_pool</td>\n",
              "      <td>True</td>\n",
              "    </tr>\n",
              "    <tr>\n",
              "      <th>11</th>\n",
              "      <td>&lt;keras.layers.convolutional.conv2d.Conv2D object at 0x7f9baacd7370&gt;</td>\n",
              "      <td>block4_conv1</td>\n",
              "      <td>True</td>\n",
              "    </tr>\n",
              "    <tr>\n",
              "      <th>12</th>\n",
              "      <td>&lt;keras.layers.convolutional.conv2d.Conv2D object at 0x7f9baacd6530&gt;</td>\n",
              "      <td>block4_conv2</td>\n",
              "      <td>True</td>\n",
              "    </tr>\n",
              "    <tr>\n",
              "      <th>13</th>\n",
              "      <td>&lt;keras.layers.convolutional.conv2d.Conv2D object at 0x7f9baacd7910&gt;</td>\n",
              "      <td>block4_conv3</td>\n",
              "      <td>True</td>\n",
              "    </tr>\n",
              "    <tr>\n",
              "      <th>14</th>\n",
              "      <td>&lt;keras.layers.pooling.max_pooling2d.MaxPooling2D object at 0x7f9b180c1870&gt;</td>\n",
              "      <td>block4_pool</td>\n",
              "      <td>True</td>\n",
              "    </tr>\n",
              "    <tr>\n",
              "      <th>15</th>\n",
              "      <td>&lt;keras.layers.convolutional.conv2d.Conv2D object at 0x7f9b180c23b0&gt;</td>\n",
              "      <td>block5_conv1</td>\n",
              "      <td>True</td>\n",
              "    </tr>\n",
              "    <tr>\n",
              "      <th>16</th>\n",
              "      <td>&lt;keras.layers.convolutional.conv2d.Conv2D object at 0x7f9b180c1000&gt;</td>\n",
              "      <td>block5_conv2</td>\n",
              "      <td>True</td>\n",
              "    </tr>\n",
              "    <tr>\n",
              "      <th>17</th>\n",
              "      <td>&lt;keras.layers.convolutional.conv2d.Conv2D object at 0x7f9b180c1750&gt;</td>\n",
              "      <td>block5_conv3</td>\n",
              "      <td>True</td>\n",
              "    </tr>\n",
              "    <tr>\n",
              "      <th>18</th>\n",
              "      <td>&lt;keras.layers.pooling.max_pooling2d.MaxPooling2D object at 0x7f9b180c38e0&gt;</td>\n",
              "      <td>block5_pool</td>\n",
              "      <td>True</td>\n",
              "    </tr>\n",
              "    <tr>\n",
              "      <th>19</th>\n",
              "      <td>&lt;keras.layers.reshaping.flatten.Flatten object at 0x7f9b180d24d0&gt;</td>\n",
              "      <td>flatten</td>\n",
              "      <td>True</td>\n",
              "    </tr>\n",
              "  </tbody>\n",
              "</table>\n",
              "</div>\n",
              "      <button class=\"colab-df-convert\" onclick=\"convertToInteractive('df-bacc6200-b3a2-4fe0-966f-8a57ac77806b')\"\n",
              "              title=\"Convert this dataframe to an interactive table.\"\n",
              "              style=\"display:none;\">\n",
              "        \n",
              "  <svg xmlns=\"http://www.w3.org/2000/svg\" height=\"24px\"viewBox=\"0 0 24 24\"\n",
              "       width=\"24px\">\n",
              "    <path d=\"M0 0h24v24H0V0z\" fill=\"none\"/>\n",
              "    <path d=\"M18.56 5.44l.94 2.06.94-2.06 2.06-.94-2.06-.94-.94-2.06-.94 2.06-2.06.94zm-11 1L8.5 8.5l.94-2.06 2.06-.94-2.06-.94L8.5 2.5l-.94 2.06-2.06.94zm10 10l.94 2.06.94-2.06 2.06-.94-2.06-.94-.94-2.06-.94 2.06-2.06.94z\"/><path d=\"M17.41 7.96l-1.37-1.37c-.4-.4-.92-.59-1.43-.59-.52 0-1.04.2-1.43.59L10.3 9.45l-7.72 7.72c-.78.78-.78 2.05 0 2.83L4 21.41c.39.39.9.59 1.41.59.51 0 1.02-.2 1.41-.59l7.78-7.78 2.81-2.81c.8-.78.8-2.07 0-2.86zM5.41 20L4 18.59l7.72-7.72 1.47 1.35L5.41 20z\"/>\n",
              "  </svg>\n",
              "      </button>\n",
              "      \n",
              "  <style>\n",
              "    .colab-df-container {\n",
              "      display:flex;\n",
              "      flex-wrap:wrap;\n",
              "      gap: 12px;\n",
              "    }\n",
              "\n",
              "    .colab-df-convert {\n",
              "      background-color: #E8F0FE;\n",
              "      border: none;\n",
              "      border-radius: 50%;\n",
              "      cursor: pointer;\n",
              "      display: none;\n",
              "      fill: #1967D2;\n",
              "      height: 32px;\n",
              "      padding: 0 0 0 0;\n",
              "      width: 32px;\n",
              "    }\n",
              "\n",
              "    .colab-df-convert:hover {\n",
              "      background-color: #E2EBFA;\n",
              "      box-shadow: 0px 1px 2px rgba(60, 64, 67, 0.3), 0px 1px 3px 1px rgba(60, 64, 67, 0.15);\n",
              "      fill: #174EA6;\n",
              "    }\n",
              "\n",
              "    [theme=dark] .colab-df-convert {\n",
              "      background-color: #3B4455;\n",
              "      fill: #D2E3FC;\n",
              "    }\n",
              "\n",
              "    [theme=dark] .colab-df-convert:hover {\n",
              "      background-color: #434B5C;\n",
              "      box-shadow: 0px 1px 3px 1px rgba(0, 0, 0, 0.15);\n",
              "      filter: drop-shadow(0px 1px 2px rgba(0, 0, 0, 0.3));\n",
              "      fill: #FFFFFF;\n",
              "    }\n",
              "  </style>\n",
              "\n",
              "      <script>\n",
              "        const buttonEl =\n",
              "          document.querySelector('#df-bacc6200-b3a2-4fe0-966f-8a57ac77806b button.colab-df-convert');\n",
              "        buttonEl.style.display =\n",
              "          google.colab.kernel.accessAllowed ? 'block' : 'none';\n",
              "\n",
              "        async function convertToInteractive(key) {\n",
              "          const element = document.querySelector('#df-bacc6200-b3a2-4fe0-966f-8a57ac77806b');\n",
              "          const dataTable =\n",
              "            await google.colab.kernel.invokeFunction('convertToInteractive',\n",
              "                                                     [key], {});\n",
              "          if (!dataTable) return;\n",
              "\n",
              "          const docLinkHtml = 'Like what you see? Visit the ' +\n",
              "            '<a target=\"_blank\" href=https://colab.research.google.com/notebooks/data_table.ipynb>data table notebook</a>'\n",
              "            + ' to learn more about interactive tables.';\n",
              "          element.innerHTML = '';\n",
              "          dataTable['output_type'] = 'display_data';\n",
              "          await google.colab.output.renderOutput(dataTable, element);\n",
              "          const docLink = document.createElement('div');\n",
              "          docLink.innerHTML = docLinkHtml;\n",
              "          element.appendChild(docLink);\n",
              "        }\n",
              "      </script>\n",
              "    </div>\n",
              "  </div>\n",
              "  "
            ]
          },
          "metadata": {},
          "execution_count": 14
        }
      ]
    },
    {
      "cell_type": "code",
      "source": [
        "model_prevgg16.trainable"
      ],
      "metadata": {
        "colab": {
          "base_uri": "https://localhost:8080/"
        },
        "id": "bH0VE-RNDsq8",
        "outputId": "76e02fdc-81a9-4c2d-8af5-efee8da1ebc0"
      },
      "execution_count": 15,
      "outputs": [
        {
          "output_type": "execute_result",
          "data": {
            "text/plain": [
              "True"
            ]
          },
          "metadata": {},
          "execution_count": 15
        }
      ]
    },
    {
      "cell_type": "code",
      "source": [
        "# Despues del bloque 4 de convulciones lo haremos true lo demas lo congelaremos y los pondremos false no harana nada"
      ],
      "metadata": {
        "id": "6hdOjRoyJHyl"
      },
      "execution_count": 16,
      "outputs": []
    },
    {
      "cell_type": "code",
      "source": [
        "trainable = False\n",
        "for layer in model_prevgg16.layers:\n",
        "  if layer.name == \"block4_conv1\":\n",
        "    trainable = True\n",
        "\n",
        "  layer.trainable = trainable\n"
      ],
      "metadata": {
        "id": "iCYCEIcVDsmO"
      },
      "execution_count": 17,
      "outputs": []
    },
    {
      "cell_type": "code",
      "source": [
        "#layers = [(layer, layer.name, layer.trainable) for layer in model_prevgg16.layers]\n",
        "#pd.DataFrame(layers, columns=(\"Layer\",\"Name\",\"Is Trainable?\"))"
      ],
      "metadata": {
        "id": "7g4guZ_eIte-"
      },
      "execution_count": 18,
      "outputs": []
    },
    {
      "cell_type": "code",
      "source": [
        "model_prevgg16.summary()"
      ],
      "metadata": {
        "colab": {
          "base_uri": "https://localhost:8080/"
        },
        "id": "DoTTg1Qk5-HF",
        "outputId": "89bcaefd-f558-4345-f210-0bbe1b59764b"
      },
      "execution_count": 19,
      "outputs": [
        {
          "output_type": "stream",
          "name": "stdout",
          "text": [
            "Model: \"model\"\n",
            "_________________________________________________________________\n",
            " Layer (type)                Output Shape              Param #   \n",
            "=================================================================\n",
            " input_1 (InputLayer)        [(None, 150, 150, 3)]     0         \n",
            "                                                                 \n",
            " block1_conv1 (Conv2D)       (None, 150, 150, 64)      1792      \n",
            "                                                                 \n",
            " block1_conv2 (Conv2D)       (None, 150, 150, 64)      36928     \n",
            "                                                                 \n",
            " block1_pool (MaxPooling2D)  (None, 75, 75, 64)        0         \n",
            "                                                                 \n",
            " block2_conv1 (Conv2D)       (None, 75, 75, 128)       73856     \n",
            "                                                                 \n",
            " block2_conv2 (Conv2D)       (None, 75, 75, 128)       147584    \n",
            "                                                                 \n",
            " block2_pool (MaxPooling2D)  (None, 37, 37, 128)       0         \n",
            "                                                                 \n",
            " block3_conv1 (Conv2D)       (None, 37, 37, 256)       295168    \n",
            "                                                                 \n",
            " block3_conv2 (Conv2D)       (None, 37, 37, 256)       590080    \n",
            "                                                                 \n",
            " block3_conv3 (Conv2D)       (None, 37, 37, 256)       590080    \n",
            "                                                                 \n",
            " block3_pool (MaxPooling2D)  (None, 18, 18, 256)       0         \n",
            "                                                                 \n",
            " block4_conv1 (Conv2D)       (None, 18, 18, 512)       1180160   \n",
            "                                                                 \n",
            " block4_conv2 (Conv2D)       (None, 18, 18, 512)       2359808   \n",
            "                                                                 \n",
            " block4_conv3 (Conv2D)       (None, 18, 18, 512)       2359808   \n",
            "                                                                 \n",
            " block4_pool (MaxPooling2D)  (None, 9, 9, 512)         0         \n",
            "                                                                 \n",
            " block5_conv1 (Conv2D)       (None, 9, 9, 512)         2359808   \n",
            "                                                                 \n",
            " block5_conv2 (Conv2D)       (None, 9, 9, 512)         2359808   \n",
            "                                                                 \n",
            " block5_conv3 (Conv2D)       (None, 9, 9, 512)         2359808   \n",
            "                                                                 \n",
            " block5_pool (MaxPooling2D)  (None, 4, 4, 512)         0         \n",
            "                                                                 \n",
            " flatten (Flatten)           (None, 8192)              0         \n",
            "                                                                 \n",
            "=================================================================\n",
            "Total params: 14,714,688\n",
            "Trainable params: 12,979,200\n",
            "Non-trainable params: 1,735,488\n",
            "_________________________________________________________________\n"
          ]
        }
      ]
    },
    {
      "cell_type": "code",
      "source": [
        "# como pueden ver arriba aca se se puede ver el resultado del congelamiento de las capas"
      ],
      "metadata": {
        "id": "T0wX5qkvQuDl"
      },
      "execution_count": 35,
      "outputs": []
    },
    {
      "cell_type": "markdown",
      "metadata": {
        "id": "xO4I17PxUVOS"
      },
      "source": [
        "# Montemos la red de clasificación"
      ]
    },
    {
      "cell_type": "code",
      "source": [
        "# aca hicimos una modificacion del primer notebook pusimos el modelo de una vez"
      ],
      "metadata": {
        "id": "Z-u5b53oRMs7"
      },
      "execution_count": 36,
      "outputs": []
    },
    {
      "cell_type": "code",
      "execution_count": 20,
      "metadata": {
        "id": "2qDwi_ELUwHg",
        "colab": {
          "base_uri": "https://localhost:8080/"
        },
        "outputId": "fe533e0a-33da-40ee-ea48-03e091fcf017"
      },
      "outputs": [
        {
          "output_type": "stream",
          "name": "stdout",
          "text": [
            "Model: \"sequential\"\n",
            "_________________________________________________________________\n",
            " Layer (type)                Output Shape              Param #   \n",
            "=================================================================\n",
            " model (Functional)          (None, 8192)              14714688  \n",
            "                                                                 \n",
            " dense (Dense)               (None, 512)               4194816   \n",
            "                                                                 \n",
            " dropout (Dropout)           (None, 512)               0         \n",
            "                                                                 \n",
            " dense_1 (Dense)             (None, 512)               262656    \n",
            "                                                                 \n",
            " dropout_1 (Dropout)         (None, 512)               0         \n",
            "                                                                 \n",
            " dense_2 (Dense)             (None, 1)                 513       \n",
            "                                                                 \n",
            "=================================================================\n",
            "Total params: 19,172,673\n",
            "Trainable params: 17,437,185\n",
            "Non-trainable params: 1,735,488\n",
            "_________________________________________________________________\n"
          ]
        }
      ],
      "source": [
        "model_post_vgg = ks.Sequential()\n",
        "\n",
        "model_post_vgg.add(model_prevgg16)\n",
        "model_post_vgg.add(ks.layers.Dense(512, activation='relu'))\n",
        "model_post_vgg.add(ks.layers.Dropout(0.3))\n",
        "model_post_vgg.add(ks.layers.Dense(512, activation='relu'))\n",
        "model_post_vgg.add(ks.layers.Dropout(0.3))\n",
        "model_post_vgg.add(ks.layers.Dense(1, activation='sigmoid'))\n",
        "\n",
        "model_post_vgg.summary()"
      ]
    },
    {
      "cell_type": "code",
      "source": [
        "# se pueden fijar en el resultado arriba la cantidades entrenable y las que no osea las congeladas"
      ],
      "metadata": {
        "id": "UGTtrm5HLiil"
      },
      "execution_count": 21,
      "outputs": []
    },
    {
      "cell_type": "markdown",
      "metadata": {
        "id": "BgyjckmLWGV5"
      },
      "source": [
        "# Creamos un optimizador"
      ]
    },
    {
      "cell_type": "code",
      "execution_count": 22,
      "metadata": {
        "id": "2D-G7bQ2WKZL"
      },
      "outputs": [],
      "source": [
        "from tensorflow.keras.optimizers import Adam"
      ]
    },
    {
      "cell_type": "code",
      "source": [
        "# Aca le modificamosun cero mas ya que no entrenaba nada!"
      ],
      "metadata": {
        "id": "xY0VL3T6Mcud"
      },
      "execution_count": 23,
      "outputs": []
    },
    {
      "cell_type": "code",
      "execution_count": 24,
      "metadata": {
        "id": "_lv5_11kWaP0"
      },
      "outputs": [],
      "source": [
        "new_adam = Adam(learning_rate=0.00005)\n"
      ]
    },
    {
      "cell_type": "code",
      "source": [
        "# a continuacion modificamos la parte de optimizer adan = new_adam"
      ],
      "metadata": {
        "id": "tntaGRzML9o9"
      },
      "execution_count": 25,
      "outputs": []
    },
    {
      "cell_type": "code",
      "execution_count": 26,
      "metadata": {
        "id": "JGPweTyGWwiA"
      },
      "outputs": [],
      "source": [
        "model_post_vgg.compile(loss='binary_crossentropy', optimizer=new_adam, metrics=['accuracy'])"
      ]
    },
    {
      "cell_type": "markdown",
      "metadata": {
        "id": "3bFrHu2sXCQB"
      },
      "source": [
        "# Early stopping!!"
      ]
    },
    {
      "cell_type": "code",
      "execution_count": 27,
      "metadata": {
        "id": "20hx0uQFXA08"
      },
      "outputs": [],
      "source": [
        "callback = EarlyStopping(monitor='val_loss', patience=5)"
      ]
    },
    {
      "cell_type": "markdown",
      "metadata": {
        "id": "XZKWdR2Na3Mm"
      },
      "source": [
        "# Encoding de etiquetas"
      ]
    },
    {
      "cell_type": "code",
      "execution_count": 28,
      "metadata": {
        "id": "0xNzsi3Sa89O"
      },
      "outputs": [],
      "source": [
        "from sklearn.preprocessing import LabelEncoder\n",
        "\n",
        "le = LabelEncoder()\n",
        "le.fit(y_train_img)\n",
        "y_train_encoded = le.transform(y_train_img)\n",
        "y_val_encoded = le.transform(y_val_img)\n",
        "y_test_encoded = le.transform(y_test_img)"
      ]
    },
    {
      "cell_type": "code",
      "execution_count": 29,
      "metadata": {
        "id": "Rx2qT33pbWfy",
        "colab": {
          "base_uri": "https://localhost:8080/"
        },
        "outputId": "f07125f0-ba15-4884-fd7d-5cb21ad774dc"
      },
      "outputs": [
        {
          "output_type": "stream",
          "name": "stdout",
          "text": [
            "['cat' 'cat' 'cat' ... 'dog' 'dog' 'dog']\n",
            "[0 0 0 ... 1 1 1]\n"
          ]
        },
        {
          "output_type": "execute_result",
          "data": {
            "text/plain": [
              "array([0, 0, 0, ..., 1, 1, 1])"
            ]
          },
          "metadata": {},
          "execution_count": 29
        }
      ],
      "source": [
        "print(np.array(y_train_img))\n",
        "print(np.array(y_train_encoded))\n",
        "\n",
        "y_train_encoded"
      ]
    },
    {
      "cell_type": "markdown",
      "metadata": {
        "id": "I5ewPTEFXOPb"
      },
      "source": [
        "# Entrenar se modifica las variable a x_train_scaled, batch size, x_val_scaled"
      ]
    },
    {
      "cell_type": "code",
      "execution_count": 30,
      "metadata": {
        "id": "9nLdIY2UXY4s",
        "colab": {
          "base_uri": "https://localhost:8080/"
        },
        "outputId": "c55c0136-095c-4a80-853c-201995c4020f"
      },
      "outputs": [
        {
          "output_type": "stream",
          "name": "stdout",
          "text": [
            "Epoch 1/100\n",
            "157/157 [==============================] - 39s 136ms/step - loss: 0.2849 - accuracy: 0.8686 - val_loss: 0.1428 - val_accuracy: 0.9440\n",
            "Epoch 2/100\n",
            "157/157 [==============================] - 20s 131ms/step - loss: 0.1167 - accuracy: 0.9528 - val_loss: 0.1459 - val_accuracy: 0.9420\n",
            "Epoch 3/100\n",
            "157/157 [==============================] - 21s 132ms/step - loss: 0.0602 - accuracy: 0.9770 - val_loss: 0.1519 - val_accuracy: 0.9530\n",
            "Epoch 4/100\n",
            "157/157 [==============================] - 21s 131ms/step - loss: 0.0299 - accuracy: 0.9892 - val_loss: 0.1730 - val_accuracy: 0.9520\n",
            "Epoch 5/100\n",
            "157/157 [==============================] - 20s 129ms/step - loss: 0.0349 - accuracy: 0.9874 - val_loss: 0.1786 - val_accuracy: 0.9360\n",
            "Epoch 6/100\n",
            "157/157 [==============================] - 20s 129ms/step - loss: 0.0184 - accuracy: 0.9930 - val_loss: 0.1756 - val_accuracy: 0.9440\n"
          ]
        }
      ],
      "source": [
        "history = model_post_vgg.fit(x=x_train_scaled, y=y_train_encoded, batch_size=32,\n",
        "                             epochs=100, callbacks=[callback],\n",
        "                             validation_data=(x_val_scaled, y_val_encoded))"
      ]
    },
    {
      "cell_type": "markdown",
      "metadata": {
        "id": "_9wlK6qZkcyf"
      },
      "source": [
        "# Guardamos el modelo\n",
        "\n",
        "Aquí tenemos que guardar el modelo simple, pero tambien hemos de guardar, o bien el modelo de preproceso o bien los datos de test procesados en NPZ..."
      ]
    },
    {
      "cell_type": "code",
      "execution_count": 31,
      "metadata": {
        "id": "obUoFlpXkcyg"
      },
      "outputs": [],
      "source": [
        " #Modelo post VGG16\n",
        "model_post_vgg.save(ruta_archivos+'model_with_basic_transfer_learning_post_vgg16.h5')\n",
        "\n"
      ]
    },
    {
      "cell_type": "markdown",
      "metadata": {
        "id": "-jPRKwC_kcyg"
      },
      "source": [
        "# Miremos que tal rinde el modelo en errores y accuracy"
      ]
    },
    {
      "cell_type": "code",
      "execution_count": 32,
      "metadata": {
        "id": "zKqHz-_mkcyg",
        "colab": {
          "base_uri": "https://localhost:8080/",
          "height": 887
        },
        "outputId": "55150885-b38a-4238-bf06-c42d0210957a"
      },
      "outputs": [
        {
          "output_type": "display_data",
          "data": {
            "text/plain": [
              "<Figure size 640x480 with 1 Axes>"
            ],
            "image/png": "[encoded data removed]"
          },
          "metadata": {}
        },
        {
          "output_type": "display_data",
          "data": {
            "text/plain": [
              "<Figure size 640x480 with 1 Axes>"
            ],
            "image/png": "[encoded data removed]"
          },
          "metadata": {}
        }
      ],
      "source": [
        "plt.title('Cross Entropy Loss')\n",
        "plt.plot(history.history['loss'], color='blue', label='train')\n",
        "plt.plot(history.history['val_loss'], color='orange', label='test')\n",
        "plt.show()\n",
        "\n",
        "plt.title('Classification Accuracy')\n",
        "plt.plot(history.history['accuracy'], color='blue', label='train')\n",
        "plt.plot(history.history['val_accuracy'], color='orange', label='test')\n",
        "plt.show()"
      ]
    },
    {
      "cell_type": "code",
      "source": [
        "# acontinuacion se le hizo la actualizacion de variables"
      ],
      "metadata": {
        "id": "U08NJ76zMy6W"
      },
      "execution_count": 33,
      "outputs": []
    },
    {
      "cell_type": "code",
      "execution_count": 34,
      "metadata": {
        "id": "3LUGA9cgkcyh",
        "colab": {
          "base_uri": "https://localhost:8080/"
        },
        "outputId": "292d8133-9d5e-42f0-cec6-e27024b910f2"
      },
      "outputs": [
        {
          "output_type": "stream",
          "name": "stdout",
          "text": [
            "Modelo con Basic Transfer Learning > 96.300\n"
          ]
        }
      ],
      "source": [
        "_, acc = model_post_vgg.evaluate(x_test_scaled, y_test_encoded, verbose=0)\n",
        "print('Modelo con Basic Transfer Learning > %.3f' % (acc * 100.0))\n"
      ]
    }
  ],
  "metadata": {
    "accelerator": "GPU",
    "colab": {
      "provenance": [],
      "include_colab_link": true
    },
    "kernelspec": {
      "display_name": "Python 3",
      "language": "python",
      "name": "python3"
    },
    "language_info": {
      "codemirror_mode": {
        "name": "ipython",
        "version": 3
      },
      "file_extension": ".py",
      "mimetype": "text/x-python",
      "name": "python",
      "nbconvert_exporter": "python",
      "pygments_lexer": "ipython3",
      "version": "3.8.5"
    }
  },
  "nbformat": 4,
  "nbformat_minor": 0
}
